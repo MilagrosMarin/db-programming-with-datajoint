{
 "cells": [
  {
   "cell_type": "markdown",
   "metadata": {},
   "source": [
    "# UUIDs\n",
    "## Background\n",
    "Universally Unique Identifiers (UUIDs) provide convenient mechanisms for identifying pieces of information (objects) inside an information system. Various conventions exist. However, general patterns have been established and formalized as RFC 4122.\n",
    "\n",
    "Comprised of hex digits, UUIDs have the pattern `8-4-4-4-12`, e.g. `e45ba2cc-39db-11e9-8e62-7470fdf23ef1`.\n",
    "\n",
    "It adds up to 36 characters (32 hex + 4 hyphens), or 16 bytes of information (128 bits)."
   ]
  },
  {
   "cell_type": "code",
   "execution_count": 1,
   "metadata": {},
   "outputs": [],
   "source": [
    "import uuid"
   ]
  },
  {
   "cell_type": "code",
   "execution_count": 2,
   "metadata": {},
   "outputs": [
    {
     "name": "stdout",
     "output_type": "stream",
     "text": [
      "Help on function uuid1 in module uuid:\n",
      "\n",
      "uuid1(node=None, clock_seq=None)\n",
      "    Generate a UUID from a host ID, sequence number, and the current time.\n",
      "    If 'node' is not given, getnode() is used to obtain the hardware\n",
      "    address.  If 'clock_seq' is given, it is used as the sequence number;\n",
      "    otherwise a random 14-bit sequence number is chosen.\n",
      "\n"
     ]
    }
   ],
   "source": [
    "help(uuid.uuid1)"
   ]
  },
  {
   "cell_type": "code",
   "execution_count": 3,
   "metadata": {},
   "outputs": [
    {
     "data": {
      "text/plain": [
       "[UUID('41e09e0e-3c2d-11e9-9333-7470fdf23ef1'),\n",
       " UUID('41e09e0f-3c2d-11e9-9333-7470fdf23ef1'),\n",
       " UUID('41e09e10-3c2d-11e9-9333-7470fdf23ef1'),\n",
       " UUID('41e09e11-3c2d-11e9-9333-7470fdf23ef1'),\n",
       " UUID('41e09e12-3c2d-11e9-9333-7470fdf23ef1')]"
      ]
     },
     "execution_count": 3,
     "metadata": {},
     "output_type": "execute_result"
    }
   ],
   "source": [
    "# use the current hardware address and time\n",
    "[uuid.uuid1() for _ in range(5)]"
   ]
  },
  {
   "cell_type": "code",
   "execution_count": 4,
   "metadata": {},
   "outputs": [
    {
     "data": {
      "text/plain": [
       "[UUID('41e2cd06-3c2d-11e9-8000-000000000000'),\n",
       " UUID('41e2cd9e-3c2d-11e9-8000-000000000000'),\n",
       " UUID('41e2cde8-3c2d-11e9-8000-000000000000'),\n",
       " UUID('41e2ce22-3c2d-11e9-8000-000000000000'),\n",
       " UUID('41e2ce58-3c2d-11e9-8000-000000000000')]"
      ]
     },
     "execution_count": 4,
     "metadata": {},
     "output_type": "execute_result"
    }
   ],
   "source": [
    "# use fixed values\n",
    "[uuid.uuid1(0,0) for _ in range(5)]"
   ]
  },
  {
   "cell_type": "code",
   "execution_count": 5,
   "metadata": {},
   "outputs": [
    {
     "name": "stdout",
     "output_type": "stream",
     "text": [
      "Help on function uuid3 in module uuid:\n",
      "\n",
      "uuid3(namespace, name)\n",
      "    Generate a UUID from the MD5 hash of a namespace UUID and a name.\n",
      "\n"
     ]
    }
   ],
   "source": [
    "help(uuid.uuid3)"
   ]
  },
  {
   "cell_type": "code",
   "execution_count": 6,
   "metadata": {},
   "outputs": [
    {
     "name": "stdout",
     "output_type": "stream",
     "text": [
      "Help on function uuid5 in module uuid:\n",
      "\n",
      "uuid5(namespace, name)\n",
      "    Generate a UUID from the SHA-1 hash of a namespace UUID and a name.\n",
      "\n"
     ]
    }
   ],
   "source": [
    "help(uuid.uuid5)"
   ]
  },
  {
   "cell_type": "code",
   "execution_count": 7,
   "metadata": {},
   "outputs": [
    {
     "data": {
      "text/plain": [
       "[UUID('913e0174-a390-5c08-b50a-623690546dd5'),\n",
       " UUID('b5804c3f-57b1-54e3-8176-3b45aa443a97'),\n",
       " UUID('58571fff-c6bd-583f-88ac-ef0b8ff2981f'),\n",
       " UUID('b5804c3f-57b1-54e3-8176-3b45aa443a97')]"
      ]
     },
     "execution_count": 7,
     "metadata": {},
     "output_type": "execute_result"
    }
   ],
   "source": [
    "top = uuid.UUID('00000000-0000-0000-0000-000000000000')\n",
    "topic = uuid.uuid5(top, 'Neuroscience')\n",
    "subject1 = uuid.uuid5(topic, 'Habenula')\n",
    "subject2 = uuid.uuid5(topic, 'Entorhinal cortex')\n",
    "subject3 = uuid.uuid5(topic, 'Habenula')\n",
    "[topic, subject1, subject2, subject3]"
   ]
  },
  {
   "cell_type": "code",
   "execution_count": 8,
   "metadata": {},
   "outputs": [
    {
     "name": "stdout",
     "output_type": "stream",
     "text": [
      "Help on function uuid4 in module uuid:\n",
      "\n",
      "uuid4()\n",
      "    Generate a random UUID.\n",
      "\n"
     ]
    }
   ],
   "source": [
    "help(uuid.uuid4)"
   ]
  },
  {
   "cell_type": "code",
   "execution_count": 9,
   "metadata": {},
   "outputs": [
    {
     "data": {
      "text/plain": [
       "[UUID('de7c80c9-ec3b-460f-af5c-3eec946b6a20'),\n",
       " UUID('79a706d8-e25d-4e83-8289-e07e2bc4451b'),\n",
       " UUID('fb9e95ef-b8b3-4b6e-8331-3f633b0a6254'),\n",
       " UUID('c293dc4e-c2d8-499b-b161-cb04c05196a7'),\n",
       " UUID('f0683133-adb5-4e62-9b31-f889f1475a80'),\n",
       " UUID('b0178fbc-cc18-406b-b2a8-dcda1ccd2f15'),\n",
       " UUID('1c92fd4d-692a-4ecf-adf3-662e64d03609'),\n",
       " UUID('0a39ff99-da1d-41ac-a64b-d75db825308d'),\n",
       " UUID('12ad78c0-9107-4a5d-94b7-0de2c7b97a66'),\n",
       " UUID('8e18f3d9-89e7-4157-97b6-3c3fddb72c4a'),\n",
       " UUID('6c83950b-39ca-48c6-998f-ede3a754f75d'),\n",
       " UUID('f53b30b9-b1d7-4d65-abf8-f475b40d8cb8')]"
      ]
     },
     "execution_count": 9,
     "metadata": {},
     "output_type": "execute_result"
    }
   ],
   "source": [
    "[uuid.uuid4() for _ in range(12)]"
   ]
  },
  {
   "cell_type": "code",
   "execution_count": 10,
   "metadata": {},
   "outputs": [],
   "source": [
    "a = uuid.uuid4()\n",
    "s = str(a)"
   ]
  },
  {
   "cell_type": "code",
   "execution_count": 11,
   "metadata": {},
   "outputs": [
    {
     "data": {
      "text/plain": [
       "(UUID('790e3c03-d8c6-4f11-b9bb-b70544017e18'),\n",
       " '790e3c03-d8c6-4f11-b9bb-b70544017e18')"
      ]
     },
     "execution_count": 11,
     "metadata": {},
     "output_type": "execute_result"
    }
   ],
   "source": [
    "a, s"
   ]
  },
  {
   "cell_type": "code",
   "execution_count": 12,
   "metadata": {},
   "outputs": [
    {
     "data": {
      "text/plain": [
       "UUID('790e3c03-d8c6-4f11-b9bb-b70544017e18')"
      ]
     },
     "execution_count": 12,
     "metadata": {},
     "output_type": "execute_result"
    }
   ],
   "source": [
    "uuid.UUID(s)"
   ]
  },
  {
   "cell_type": "markdown",
   "metadata": {},
   "source": [
    "## UUIDs in DataJoint"
   ]
  },
  {
   "cell_type": "code",
   "execution_count": 13,
   "metadata": {},
   "outputs": [
    {
     "data": {
      "text/plain": [
       "'0.12.dev2'"
      ]
     },
     "execution_count": 13,
     "metadata": {},
     "output_type": "execute_result"
    }
   ],
   "source": [
    "import datajoint as dj\n",
    "dj.__version__"
   ]
  },
  {
   "cell_type": "code",
   "execution_count": 14,
   "metadata": {},
   "outputs": [
    {
     "name": "stdout",
     "output_type": "stream",
     "text": [
      "Connecting dimitri@127.0.0.1:3306\n"
     ]
    }
   ],
   "source": [
    "schema = dj.schema('dimitri_uuid')"
   ]
  },
  {
   "cell_type": "code",
   "execution_count": 15,
   "metadata": {},
   "outputs": [],
   "source": [
    "@schema\n",
    "class Message(dj.Manual):\n",
    "    definition = \"\"\"\n",
    "    message_id : uuid  # internal message id\n",
    "    ---\n",
    "    message_body : varchar(1000) \n",
    "    nice : bool\n",
    "    \"\"\""
   ]
  },
  {
   "cell_type": "code",
   "execution_count": 16,
   "metadata": {},
   "outputs": [
    {
     "name": "stdout",
     "output_type": "stream",
     "text": [
      "message_id           : uuid                         # internal message id\n",
      "---\n",
      "message_body         : varchar(1000)                \n",
      "nice                 : tinyint                      \n",
      "\n"
     ]
    }
   ],
   "source": [
    "Message.describe();"
   ]
  },
  {
   "cell_type": "code",
   "execution_count": 17,
   "metadata": {},
   "outputs": [
    {
     "data": {
      "text/plain": [
       "'`message_id` binary(16) NOT NULL COMMENT \":uuid:internal message id\"'"
      ]
     },
     "execution_count": 17,
     "metadata": {},
     "output_type": "execute_result"
    }
   ],
   "source": [
    "# Internally, DataJoint represents uuids as a BINARY(16) datatypes but users don't need to know\n",
    "Message.heading['message_id'].sql"
   ]
  },
  {
   "cell_type": "code",
   "execution_count": 18,
   "metadata": {},
   "outputs": [],
   "source": [
    "Message.insert1((uuid.uuid1(), 'Hello, world!', 1))\n",
    "Message.insert1((uuid.uuid1(), 'Cogito ergo sum', True))"
   ]
  },
  {
   "cell_type": "code",
   "execution_count": 19,
   "metadata": {},
   "outputs": [
    {
     "data": {
      "text/html": [
       "\n",
       "        \n",
       "        <style type=\"text/css\">\n",
       "            .Relation{\n",
       "                border-collapse:collapse;\n",
       "            }\n",
       "            .Relation th{\n",
       "                background: #A0A0A0; color: #ffffff; padding:4px; border:#f0e0e0 1px solid;\n",
       "                font-weight: normal; font-family: monospace; font-size: 100%;\n",
       "            }\n",
       "            .Relation td{\n",
       "                padding:4px; border:#f0e0e0 1px solid; font-size:100%;\n",
       "            }\n",
       "            .Relation tr:nth-child(odd){\n",
       "                background: #ffffff;\n",
       "            }\n",
       "            .Relation tr:nth-child(even){\n",
       "                background: #f3f1ff;\n",
       "            }\n",
       "            /* Tooltip container */\n",
       "            .djtooltip {\n",
       "            }\n",
       "            /* Tooltip text */\n",
       "            .djtooltip .djtooltiptext {\n",
       "                visibility: hidden;\n",
       "                width: 120px;\n",
       "                background-color: black;\n",
       "                color: #fff;\n",
       "                text-align: center;\n",
       "                padding: 5px 0;\n",
       "                border-radius: 6px;\n",
       "                /* Position the tooltip text - see examples below! */\n",
       "                position: absolute;\n",
       "                z-index: 1;\n",
       "            }\n",
       "            #primary {\n",
       "                font-weight: bold;\n",
       "                color: black;\n",
       "            }\n",
       "\n",
       "            #nonprimary {\n",
       "                font-weight: normal;\n",
       "                color: white;\n",
       "            }\n",
       "\n",
       "            /* Show the tooltip text when you mouse over the tooltip container */\n",
       "            .djtooltip:hover .djtooltiptext {\n",
       "                visibility: visible;\n",
       "            }\n",
       "        </style>\n",
       "        \n",
       "        <b></b>\n",
       "            <div style=\"max-height:1000px;max-width:1500px;overflow:auto;\">\n",
       "            <table border=\"1\" class=\"Relation\">\n",
       "                <thead> <tr style=\"text-align: right;\"> <th> <div class=\"djtooltip\">\n",
       "                                <p id=\"primary\">message_id</p>\n",
       "                                <span class=\"djtooltiptext\">internal message id</span>\n",
       "                            </div></th><th><div class=\"djtooltip\">\n",
       "                                <p id=\"nonprimary\">message_body</p>\n",
       "                                <span class=\"djtooltiptext\"></span>\n",
       "                            </div></th><th><div class=\"djtooltip\">\n",
       "                                <p id=\"nonprimary\">nice</p>\n",
       "                                <span class=\"djtooltiptext\"></span>\n",
       "                            </div> </th> </tr> </thead>\n",
       "                <tbody> <tr> <td>1c6e6421-3c2d-11e9-9333-7470fdf23ef1</td>\n",
       "<td>Hello, world!</td>\n",
       "<td>1</td></tr><tr><td>1c6e6422-3c2d-11e9-9333-7470fdf23ef1</td>\n",
       "<td>Cogito ergo sum</td>\n",
       "<td>1</td></tr><tr><td>1f9c7314-c1aa-40b7-a4a8-57b9b1e35c3f</td>\n",
       "<td>I will be back</td>\n",
       "<td>0</td></tr><tr><td>41e09e13-3c2d-11e9-9333-7470fdf23ef1</td>\n",
       "<td>Hello, world!</td>\n",
       "<td>1</td></tr><tr><td>41e09e14-3c2d-11e9-9333-7470fdf23ef1</td>\n",
       "<td>Cogito ergo sum</td>\n",
       "<td>1</td></tr><tr><td>7acecd51-93f9-413e-a315-fbfaba53926b</td>\n",
       "<td>Must destroy humans.</td>\n",
       "<td>0</td></tr><tr><td>ac32c370-4894-4b92-9ef2-bfdc89bcc917</td>\n",
       "<td>I will be back</td>\n",
       "<td>0</td></tr><tr><td>b52144d2-3c2c-11e9-9333-7470fdf23ef1</td>\n",
       "<td>Hello, world!</td>\n",
       "<td>1</td></tr><tr><td>b52144d3-3c2c-11e9-9333-7470fdf23ef1</td>\n",
       "<td>Cogito ergo sum</td>\n",
       "<td>1</td></tr><tr><td>cf6dacde-650e-469c-969e-bd7d7bdaf460</td>\n",
       "<td>Must destroy humans.</td>\n",
       "<td>0</td> </tr> </tbody>\n",
       "            </table>\n",
       "            \n",
       "            <p>Total: 10</p></div>\n",
       "            "
      ],
      "text/plain": [
       "*message_id    message_body   nice    \n",
       "+------------+ +------------+ +------+\n",
       "1c6e6421-3c2d- Hello, world!  1       \n",
       "1c6e6422-3c2d- Cogito ergo su 1       \n",
       "1f9c7314-c1aa- I will be back 0       \n",
       "41e09e13-3c2d- Hello, world!  1       \n",
       "41e09e14-3c2d- Cogito ergo su 1       \n",
       "7acecd51-93f9- Must destroy h 0       \n",
       "ac32c370-4894- I will be back 0       \n",
       "b52144d2-3c2c- Hello, world!  1       \n",
       "b52144d3-3c2c- Cogito ergo su 1       \n",
       "cf6dacde-650e- Must destroy h 0       \n",
       " (Total: 10)"
      ]
     },
     "execution_count": 19,
     "metadata": {},
     "output_type": "execute_result"
    }
   ],
   "source": [
    "Message()"
   ]
  },
  {
   "cell_type": "code",
   "execution_count": 20,
   "metadata": {},
   "outputs": [],
   "source": [
    "Message.insert1((uuid.uuid4(), 'I will be back', 0))\n",
    "Message.insert1((uuid.uuid4(), 'Must destroy humans.', False))"
   ]
  },
  {
   "cell_type": "code",
   "execution_count": 21,
   "metadata": {},
   "outputs": [
    {
     "data": {
      "text/html": [
       "\n",
       "        \n",
       "        <style type=\"text/css\">\n",
       "            .Relation{\n",
       "                border-collapse:collapse;\n",
       "            }\n",
       "            .Relation th{\n",
       "                background: #A0A0A0; color: #ffffff; padding:4px; border:#f0e0e0 1px solid;\n",
       "                font-weight: normal; font-family: monospace; font-size: 100%;\n",
       "            }\n",
       "            .Relation td{\n",
       "                padding:4px; border:#f0e0e0 1px solid; font-size:100%;\n",
       "            }\n",
       "            .Relation tr:nth-child(odd){\n",
       "                background: #ffffff;\n",
       "            }\n",
       "            .Relation tr:nth-child(even){\n",
       "                background: #f3f1ff;\n",
       "            }\n",
       "            /* Tooltip container */\n",
       "            .djtooltip {\n",
       "            }\n",
       "            /* Tooltip text */\n",
       "            .djtooltip .djtooltiptext {\n",
       "                visibility: hidden;\n",
       "                width: 120px;\n",
       "                background-color: black;\n",
       "                color: #fff;\n",
       "                text-align: center;\n",
       "                padding: 5px 0;\n",
       "                border-radius: 6px;\n",
       "                /* Position the tooltip text - see examples below! */\n",
       "                position: absolute;\n",
       "                z-index: 1;\n",
       "            }\n",
       "            #primary {\n",
       "                font-weight: bold;\n",
       "                color: black;\n",
       "            }\n",
       "\n",
       "            #nonprimary {\n",
       "                font-weight: normal;\n",
       "                color: white;\n",
       "            }\n",
       "\n",
       "            /* Show the tooltip text when you mouse over the tooltip container */\n",
       "            .djtooltip:hover .djtooltiptext {\n",
       "                visibility: visible;\n",
       "            }\n",
       "        </style>\n",
       "        \n",
       "        <b></b>\n",
       "            <div style=\"max-height:1000px;max-width:1500px;overflow:auto;\">\n",
       "            <table border=\"1\" class=\"Relation\">\n",
       "                <thead> <tr style=\"text-align: right;\"> <th> <div class=\"djtooltip\">\n",
       "                                <p id=\"primary\">message_id</p>\n",
       "                                <span class=\"djtooltiptext\">internal message id</span>\n",
       "                            </div></th><th><div class=\"djtooltip\">\n",
       "                                <p id=\"nonprimary\">message_body</p>\n",
       "                                <span class=\"djtooltiptext\"></span>\n",
       "                            </div></th><th><div class=\"djtooltip\">\n",
       "                                <p id=\"nonprimary\">nice</p>\n",
       "                                <span class=\"djtooltiptext\"></span>\n",
       "                            </div> </th> </tr> </thead>\n",
       "                <tbody> <tr> <td>1c6e6421-3c2d-11e9-9333-7470fdf23ef1</td>\n",
       "<td>Hello, world!</td>\n",
       "<td>1</td></tr><tr><td>1c6e6422-3c2d-11e9-9333-7470fdf23ef1</td>\n",
       "<td>Cogito ergo sum</td>\n",
       "<td>1</td></tr><tr><td>1f9c7314-c1aa-40b7-a4a8-57b9b1e35c3f</td>\n",
       "<td>I will be back</td>\n",
       "<td>0</td></tr><tr><td>41e09e13-3c2d-11e9-9333-7470fdf23ef1</td>\n",
       "<td>Hello, world!</td>\n",
       "<td>1</td></tr><tr><td>41e09e14-3c2d-11e9-9333-7470fdf23ef1</td>\n",
       "<td>Cogito ergo sum</td>\n",
       "<td>1</td></tr><tr><td>7acecd51-93f9-413e-a315-fbfaba53926b</td>\n",
       "<td>Must destroy humans.</td>\n",
       "<td>0</td></tr><tr><td>a07f9b63-ebd0-49d7-91be-2ad7a1098ae2</td>\n",
       "<td>I will be back</td>\n",
       "<td>0</td></tr><tr><td>ac32c370-4894-4b92-9ef2-bfdc89bcc917</td>\n",
       "<td>I will be back</td>\n",
       "<td>0</td></tr><tr><td>b52144d2-3c2c-11e9-9333-7470fdf23ef1</td>\n",
       "<td>Hello, world!</td>\n",
       "<td>1</td></tr><tr><td>b52144d3-3c2c-11e9-9333-7470fdf23ef1</td>\n",
       "<td>Cogito ergo sum</td>\n",
       "<td>1</td></tr><tr><td>cf6dacde-650e-469c-969e-bd7d7bdaf460</td>\n",
       "<td>Must destroy humans.</td>\n",
       "<td>0</td></tr><tr><td>e32a69c3-56f8-4fac-975f-4e916efac5c2</td>\n",
       "<td>Must destroy humans.</td>\n",
       "<td>0</td> </tr> </tbody>\n",
       "            </table>\n",
       "            \n",
       "            <p>Total: 12</p></div>\n",
       "            "
      ],
      "text/plain": [
       "*message_id    message_body   nice    \n",
       "+------------+ +------------+ +------+\n",
       "1c6e6421-3c2d- Hello, world!  1       \n",
       "1c6e6422-3c2d- Cogito ergo su 1       \n",
       "1f9c7314-c1aa- I will be back 0       \n",
       "41e09e13-3c2d- Hello, world!  1       \n",
       "41e09e14-3c2d- Cogito ergo su 1       \n",
       "7acecd51-93f9- Must destroy h 0       \n",
       "a07f9b63-ebd0- I will be back 0       \n",
       "ac32c370-4894- I will be back 0       \n",
       "b52144d2-3c2c- Hello, world!  1       \n",
       "b52144d3-3c2c- Cogito ergo su 1       \n",
       "cf6dacde-650e- Must destroy h 0       \n",
       "e32a69c3-56f8- Must destroy h 0       \n",
       " (Total: 12)"
      ]
     },
     "execution_count": 21,
     "metadata": {},
     "output_type": "execute_result"
    }
   ],
   "source": [
    "Message()"
   ]
  },
  {
   "cell_type": "code",
   "execution_count": 22,
   "metadata": {},
   "outputs": [],
   "source": [
    "@schema\n",
    "class Comment(dj.Manual):\n",
    "    definition = \"\"\"\n",
    "    comment_id : uuid\n",
    "    --- \n",
    "    -> Message\n",
    "    comment_body : varchar(1000)\n",
    "    \"\"\""
   ]
  },
  {
   "cell_type": "code",
   "execution_count": 23,
   "metadata": {},
   "outputs": [
    {
     "name": "stdout",
     "output_type": "stream",
     "text": [
      "comment_id           : uuid                         \n",
      "---\n",
      "-> Message\n",
      "comment_body         : varchar(1000)                \n",
      "\n"
     ]
    }
   ],
   "source": [
    "Comment.describe();"
   ]
  },
  {
   "cell_type": "code",
   "execution_count": 24,
   "metadata": {},
   "outputs": [
    {
     "data": {
      "image/svg+xml": [
       "<svg height=\"114pt\" viewBox=\"0.00 0.00 240.00 114.00\" width=\"240pt\" xmlns=\"http://www.w3.org/2000/svg\" xmlns:xlink=\"http://www.w3.org/1999/xlink\">\n",
       "<g class=\"graph\" id=\"graph0\" transform=\"scale(1 1) rotate(0) translate(4 110)\">\n",
       "<title>%3</title>\n",
       "<polygon fill=\"#ffffff\" points=\"-4,4 -4,-110 236,-110 236,4 -4,4\" stroke=\"transparent\"/>\n",
       "<!-- `dimitri_uuid`.`response` -->\n",
       "<g class=\"node\" id=\"node1\">\n",
       "<title>`dimitri_uuid`.`response`</title>\n",
       "<polygon fill=\"#00ff00\" fill-opacity=\"0.188235\" points=\"146,-35 0,-35 0,0 146,0 146,-35\" stroke=\"#00ff00\" stroke-opacity=\"0.188235\"/>\n",
       "<text fill=\"#006400\" font-family=\"arial\" font-size=\"12.00\" text-anchor=\"start\" text-decoration=\"underline\" x=\"8\" y=\"-15.4\">`dimitri_uuid`.`response`</text>\n",
       "</g>\n",
       "<!-- Comment -->\n",
       "<g class=\"node\" id=\"node2\">\n",
       "<title>Comment</title>\n",
       "<g id=\"a_node2\"><a xlink:title=\"comment_id           \r",
       "------------------------------\r",
       "→ Message\r",
       "comment_body         \r",
       "\">\n",
       "<polygon fill=\"#00ff00\" fill-opacity=\"0.188235\" points=\"232,-35 164,-35 164,0 232,0 232,-35\" stroke=\"#00ff00\" stroke-opacity=\"0.188235\"/>\n",
       "<text fill=\"#006400\" font-family=\"arial\" font-size=\"12.00\" text-anchor=\"start\" text-decoration=\"underline\" x=\"172\" y=\"-15.4\">Comment</text>\n",
       "</a>\n",
       "</g>\n",
       "</g>\n",
       "<!-- Message -->\n",
       "<g class=\"node\" id=\"node3\">\n",
       "<title>Message</title>\n",
       "<g id=\"a_node3\"><a xlink:title=\"message_id           \r",
       "------------------------------\r",
       "message_body         \r",
       "nice                 \r",
       "\">\n",
       "<polygon fill=\"#00ff00\" fill-opacity=\"0.188235\" points=\"167.5,-106 102.5,-106 102.5,-71 167.5,-71 167.5,-106\" stroke=\"#00ff00\" stroke-opacity=\"0.188235\"/>\n",
       "<text fill=\"#006400\" font-family=\"arial\" font-size=\"12.00\" text-anchor=\"start\" text-decoration=\"underline\" x=\"110.5\" y=\"-86.4\">Message</text>\n",
       "</a>\n",
       "</g>\n",
       "</g>\n",
       "<!-- Message&#45;&gt;`dimitri_uuid`.`response` -->\n",
       "<g class=\"edge\" id=\"edge1\">\n",
       "<title>Message-&gt;`dimitri_uuid`.`response`</title>\n",
       "<path d=\"M119.6742,-70.9494C110.2073,-60.1083 98.0939,-46.2366 88.5802,-35.3418\" fill=\"none\" stroke=\"#000000\" stroke-dasharray=\"5,2\" stroke-opacity=\"0.250980\" stroke-width=\".75\"/>\n",
       "</g>\n",
       "<!-- Message&#45;&gt;Comment -->\n",
       "<g class=\"edge\" id=\"edge2\">\n",
       "<title>Message-&gt;Comment</title>\n",
       "<path d=\"M150.573,-70.9494C160.1926,-60.1083 172.5013,-46.2366 182.1685,-35.3418\" fill=\"none\" stroke=\"#000000\" stroke-dasharray=\"5,2\" stroke-opacity=\"0.250980\" stroke-width=\".75\"/>\n",
       "</g>\n",
       "</g>\n",
       "</svg>"
      ],
      "text/plain": [
       "<datajoint.diagram.Diagram at 0x7ff5f215e828>"
      ]
     },
     "execution_count": 24,
     "metadata": {},
     "output_type": "execute_result"
    }
   ],
   "source": [
    "dj.Diagram(schema)"
   ]
  },
  {
   "cell_type": "code",
   "execution_count": 25,
   "metadata": {},
   "outputs": [],
   "source": [
    "keys = Message.fetch('KEY')"
   ]
  },
  {
   "cell_type": "code",
   "execution_count": 26,
   "metadata": {},
   "outputs": [
    {
     "name": "stdout",
     "output_type": "stream",
     "text": [
      "CREATE TABLE `comment` (\n",
      "  `comment_id` binary(16) NOT NULL COMMENT ':uuid:',\n",
      "  `message_id` binary(16) NOT NULL COMMENT ':uuid:internal message id',\n",
      "  `comment_body` varchar(1000) NOT NULL,\n",
      "  PRIMARY KEY (`comment_id`),\n",
      "  KEY `message_id` (`message_id`),\n",
      "  CONSTRAINT `comment_ibfk_1` FOREIGN KEY (`message_id`) REFERENCES `message` (`message_id`) ON UPDATE CASCADE\n",
      ") ENGINE=InnoDB DEFAULT CHARSET=latin1\n"
     ]
    }
   ],
   "source": [
    "# For the curious, this is how the table is declared in SQL\n",
    "print(schema.connection.query('show create table `dimitri_uuid`.`comment`').fetchall()[0][1])"
   ]
  },
  {
   "cell_type": "code",
   "execution_count": 27,
   "metadata": {},
   "outputs": [],
   "source": [
    "Comment.insert1(dict(keys[0], comment_id=uuid.uuid1(), comment_body=\"thank you\"))"
   ]
  },
  {
   "cell_type": "code",
   "execution_count": 28,
   "metadata": {},
   "outputs": [],
   "source": [
    "Comment.insert1(dict(keys[1], comment_id=uuid.uuid1(), comment_body=\"thank you\"))"
   ]
  },
  {
   "cell_type": "code",
   "execution_count": 29,
   "metadata": {},
   "outputs": [
    {
     "data": {
      "text/plain": [
       "'41e09e17-3c2d-11e9-9333-7470fdf23ef1'"
      ]
     },
     "execution_count": 29,
     "metadata": {},
     "output_type": "execute_result"
    }
   ],
   "source": [
    "str(uuid.uuid1())"
   ]
  },
  {
   "cell_type": "code",
   "execution_count": 30,
   "metadata": {},
   "outputs": [
    {
     "data": {
      "text/plain": [
       "[{'message_id': UUID('1c6e6421-3c2d-11e9-9333-7470fdf23ef1')},\n",
       " {'message_id': UUID('1c6e6422-3c2d-11e9-9333-7470fdf23ef1')},\n",
       " {'message_id': UUID('1f9c7314-c1aa-40b7-a4a8-57b9b1e35c3f')},\n",
       " {'message_id': UUID('41e09e13-3c2d-11e9-9333-7470fdf23ef1')},\n",
       " {'message_id': UUID('41e09e14-3c2d-11e9-9333-7470fdf23ef1')},\n",
       " {'message_id': UUID('7acecd51-93f9-413e-a315-fbfaba53926b')},\n",
       " {'message_id': UUID('a07f9b63-ebd0-49d7-91be-2ad7a1098ae2')},\n",
       " {'message_id': UUID('ac32c370-4894-4b92-9ef2-bfdc89bcc917')},\n",
       " {'message_id': UUID('b52144d2-3c2c-11e9-9333-7470fdf23ef1')},\n",
       " {'message_id': UUID('b52144d3-3c2c-11e9-9333-7470fdf23ef1')},\n",
       " {'message_id': UUID('cf6dacde-650e-469c-969e-bd7d7bdaf460')},\n",
       " {'message_id': UUID('e32a69c3-56f8-4fac-975f-4e916efac5c2')}]"
      ]
     },
     "execution_count": 30,
     "metadata": {},
     "output_type": "execute_result"
    }
   ],
   "source": [
    "keys"
   ]
  },
  {
   "cell_type": "code",
   "execution_count": 31,
   "metadata": {
    "scrolled": true
   },
   "outputs": [
    {
     "data": {
      "text/html": [
       "\n",
       "        \n",
       "        <style type=\"text/css\">\n",
       "            .Relation{\n",
       "                border-collapse:collapse;\n",
       "            }\n",
       "            .Relation th{\n",
       "                background: #A0A0A0; color: #ffffff; padding:4px; border:#f0e0e0 1px solid;\n",
       "                font-weight: normal; font-family: monospace; font-size: 100%;\n",
       "            }\n",
       "            .Relation td{\n",
       "                padding:4px; border:#f0e0e0 1px solid; font-size:100%;\n",
       "            }\n",
       "            .Relation tr:nth-child(odd){\n",
       "                background: #ffffff;\n",
       "            }\n",
       "            .Relation tr:nth-child(even){\n",
       "                background: #f3f1ff;\n",
       "            }\n",
       "            /* Tooltip container */\n",
       "            .djtooltip {\n",
       "            }\n",
       "            /* Tooltip text */\n",
       "            .djtooltip .djtooltiptext {\n",
       "                visibility: hidden;\n",
       "                width: 120px;\n",
       "                background-color: black;\n",
       "                color: #fff;\n",
       "                text-align: center;\n",
       "                padding: 5px 0;\n",
       "                border-radius: 6px;\n",
       "                /* Position the tooltip text - see examples below! */\n",
       "                position: absolute;\n",
       "                z-index: 1;\n",
       "            }\n",
       "            #primary {\n",
       "                font-weight: bold;\n",
       "                color: black;\n",
       "            }\n",
       "\n",
       "            #nonprimary {\n",
       "                font-weight: normal;\n",
       "                color: white;\n",
       "            }\n",
       "\n",
       "            /* Show the tooltip text when you mouse over the tooltip container */\n",
       "            .djtooltip:hover .djtooltiptext {\n",
       "                visibility: visible;\n",
       "            }\n",
       "        </style>\n",
       "        \n",
       "        <b></b>\n",
       "            <div style=\"max-height:1000px;max-width:1500px;overflow:auto;\">\n",
       "            <table border=\"1\" class=\"Relation\">\n",
       "                <thead> <tr style=\"text-align: right;\"> <th> <div class=\"djtooltip\">\n",
       "                                <p id=\"primary\">message_id</p>\n",
       "                                <span class=\"djtooltiptext\">internal message id</span>\n",
       "                            </div></th><th><div class=\"djtooltip\">\n",
       "                                <p id=\"nonprimary\">message_body</p>\n",
       "                                <span class=\"djtooltiptext\"></span>\n",
       "                            </div></th><th><div class=\"djtooltip\">\n",
       "                                <p id=\"nonprimary\">nice</p>\n",
       "                                <span class=\"djtooltiptext\"></span>\n",
       "                            </div> </th> </tr> </thead>\n",
       "                <tbody> <tr> <td>1c6e6421-3c2d-11e9-9333-7470fdf23ef1</td>\n",
       "<td>Hello, world!</td>\n",
       "<td>1</td></tr><tr><td>1c6e6422-3c2d-11e9-9333-7470fdf23ef1</td>\n",
       "<td>Cogito ergo sum</td>\n",
       "<td>1</td></tr><tr><td>1f9c7314-c1aa-40b7-a4a8-57b9b1e35c3f</td>\n",
       "<td>I will be back</td>\n",
       "<td>0</td></tr><tr><td>41e09e13-3c2d-11e9-9333-7470fdf23ef1</td>\n",
       "<td>Hello, world!</td>\n",
       "<td>1</td></tr><tr><td>41e09e14-3c2d-11e9-9333-7470fdf23ef1</td>\n",
       "<td>Cogito ergo sum</td>\n",
       "<td>1</td></tr><tr><td>7acecd51-93f9-413e-a315-fbfaba53926b</td>\n",
       "<td>Must destroy humans.</td>\n",
       "<td>0</td></tr><tr><td>a07f9b63-ebd0-49d7-91be-2ad7a1098ae2</td>\n",
       "<td>I will be back</td>\n",
       "<td>0</td></tr><tr><td>ac32c370-4894-4b92-9ef2-bfdc89bcc917</td>\n",
       "<td>I will be back</td>\n",
       "<td>0</td></tr><tr><td>b52144d2-3c2c-11e9-9333-7470fdf23ef1</td>\n",
       "<td>Hello, world!</td>\n",
       "<td>1</td></tr><tr><td>b52144d3-3c2c-11e9-9333-7470fdf23ef1</td>\n",
       "<td>Cogito ergo sum</td>\n",
       "<td>1</td></tr><tr><td>cf6dacde-650e-469c-969e-bd7d7bdaf460</td>\n",
       "<td>Must destroy humans.</td>\n",
       "<td>0</td></tr><tr><td>e32a69c3-56f8-4fac-975f-4e916efac5c2</td>\n",
       "<td>Must destroy humans.</td>\n",
       "<td>0</td> </tr> </tbody>\n",
       "            </table>\n",
       "            \n",
       "            <p>Total: 12</p></div>\n",
       "            "
      ],
      "text/plain": [
       "*message_id    message_body   nice    \n",
       "+------------+ +------------+ +------+\n",
       "1c6e6421-3c2d- Hello, world!  1       \n",
       "1c6e6422-3c2d- Cogito ergo su 1       \n",
       "1f9c7314-c1aa- I will be back 0       \n",
       "41e09e13-3c2d- Hello, world!  1       \n",
       "41e09e14-3c2d- Cogito ergo su 1       \n",
       "7acecd51-93f9- Must destroy h 0       \n",
       "a07f9b63-ebd0- I will be back 0       \n",
       "ac32c370-4894- I will be back 0       \n",
       "b52144d2-3c2c- Hello, world!  1       \n",
       "b52144d3-3c2c- Cogito ergo su 1       \n",
       "cf6dacde-650e- Must destroy h 0       \n",
       "e32a69c3-56f8- Must destroy h 0       \n",
       " (Total: 12)"
      ]
     },
     "execution_count": 31,
     "metadata": {},
     "output_type": "execute_result"
    }
   ],
   "source": [
    "Message()"
   ]
  },
  {
   "cell_type": "code",
   "execution_count": 32,
   "metadata": {},
   "outputs": [
    {
     "data": {
      "text/html": [
       "\n",
       "        \n",
       "        <style type=\"text/css\">\n",
       "            .Relation{\n",
       "                border-collapse:collapse;\n",
       "            }\n",
       "            .Relation th{\n",
       "                background: #A0A0A0; color: #ffffff; padding:4px; border:#f0e0e0 1px solid;\n",
       "                font-weight: normal; font-family: monospace; font-size: 100%;\n",
       "            }\n",
       "            .Relation td{\n",
       "                padding:4px; border:#f0e0e0 1px solid; font-size:100%;\n",
       "            }\n",
       "            .Relation tr:nth-child(odd){\n",
       "                background: #ffffff;\n",
       "            }\n",
       "            .Relation tr:nth-child(even){\n",
       "                background: #f3f1ff;\n",
       "            }\n",
       "            /* Tooltip container */\n",
       "            .djtooltip {\n",
       "            }\n",
       "            /* Tooltip text */\n",
       "            .djtooltip .djtooltiptext {\n",
       "                visibility: hidden;\n",
       "                width: 120px;\n",
       "                background-color: black;\n",
       "                color: #fff;\n",
       "                text-align: center;\n",
       "                padding: 5px 0;\n",
       "                border-radius: 6px;\n",
       "                /* Position the tooltip text - see examples below! */\n",
       "                position: absolute;\n",
       "                z-index: 1;\n",
       "            }\n",
       "            #primary {\n",
       "                font-weight: bold;\n",
       "                color: black;\n",
       "            }\n",
       "\n",
       "            #nonprimary {\n",
       "                font-weight: normal;\n",
       "                color: white;\n",
       "            }\n",
       "\n",
       "            /* Show the tooltip text when you mouse over the tooltip container */\n",
       "            .djtooltip:hover .djtooltiptext {\n",
       "                visibility: visible;\n",
       "            }\n",
       "        </style>\n",
       "        \n",
       "        <b></b>\n",
       "            <div style=\"max-height:1000px;max-width:1500px;overflow:auto;\">\n",
       "            <table border=\"1\" class=\"Relation\">\n",
       "                <thead> <tr style=\"text-align: right;\"> <th> <div class=\"djtooltip\">\n",
       "                                <p id=\"primary\">comment_id</p>\n",
       "                                <span class=\"djtooltiptext\"></span>\n",
       "                            </div></th><th><div class=\"djtooltip\">\n",
       "                                <p id=\"nonprimary\">message_id</p>\n",
       "                                <span class=\"djtooltiptext\">internal message id</span>\n",
       "                            </div></th><th><div class=\"djtooltip\">\n",
       "                                <p id=\"nonprimary\">comment_body</p>\n",
       "                                <span class=\"djtooltiptext\"></span>\n",
       "                            </div> </th> </tr> </thead>\n",
       "                <tbody> <tr> <td>370dea7c-3c2d-11e9-9333-7470fdf23ef1</td>\n",
       "<td>1c6e6422-3c2d-11e9-9333-7470fdf23ef1</td>\n",
       "<td>thank you</td></tr><tr><td>41e09e15-3c2d-11e9-9333-7470fdf23ef1</td>\n",
       "<td>1c6e6421-3c2d-11e9-9333-7470fdf23ef1</td>\n",
       "<td>thank you</td></tr><tr><td>41e09e16-3c2d-11e9-9333-7470fdf23ef1</td>\n",
       "<td>1c6e6422-3c2d-11e9-9333-7470fdf23ef1</td>\n",
       "<td>thank you</td> </tr> </tbody>\n",
       "            </table>\n",
       "            \n",
       "            <p>Total: 3</p></div>\n",
       "            "
      ],
      "text/plain": [
       "*comment_id    message_id     comment_body  \n",
       "+------------+ +------------+ +------------+\n",
       "370dea7c-3c2d- 1c6e6422-3c2d- thank you     \n",
       "41e09e15-3c2d- 1c6e6421-3c2d- thank you     \n",
       "41e09e16-3c2d- 1c6e6422-3c2d- thank you     \n",
       " (Total: 3)"
      ]
     },
     "execution_count": 32,
     "metadata": {},
     "output_type": "execute_result"
    }
   ],
   "source": [
    "Comment()"
   ]
  },
  {
   "cell_type": "code",
   "execution_count": 33,
   "metadata": {},
   "outputs": [
    {
     "data": {
      "text/html": [
       "\n",
       "        \n",
       "        <style type=\"text/css\">\n",
       "            .Relation{\n",
       "                border-collapse:collapse;\n",
       "            }\n",
       "            .Relation th{\n",
       "                background: #A0A0A0; color: #ffffff; padding:4px; border:#f0e0e0 1px solid;\n",
       "                font-weight: normal; font-family: monospace; font-size: 100%;\n",
       "            }\n",
       "            .Relation td{\n",
       "                padding:4px; border:#f0e0e0 1px solid; font-size:100%;\n",
       "            }\n",
       "            .Relation tr:nth-child(odd){\n",
       "                background: #ffffff;\n",
       "            }\n",
       "            .Relation tr:nth-child(even){\n",
       "                background: #f3f1ff;\n",
       "            }\n",
       "            /* Tooltip container */\n",
       "            .djtooltip {\n",
       "            }\n",
       "            /* Tooltip text */\n",
       "            .djtooltip .djtooltiptext {\n",
       "                visibility: hidden;\n",
       "                width: 120px;\n",
       "                background-color: black;\n",
       "                color: #fff;\n",
       "                text-align: center;\n",
       "                padding: 5px 0;\n",
       "                border-radius: 6px;\n",
       "                /* Position the tooltip text - see examples below! */\n",
       "                position: absolute;\n",
       "                z-index: 1;\n",
       "            }\n",
       "            #primary {\n",
       "                font-weight: bold;\n",
       "                color: black;\n",
       "            }\n",
       "\n",
       "            #nonprimary {\n",
       "                font-weight: normal;\n",
       "                color: white;\n",
       "            }\n",
       "\n",
       "            /* Show the tooltip text when you mouse over the tooltip container */\n",
       "            .djtooltip:hover .djtooltiptext {\n",
       "                visibility: visible;\n",
       "            }\n",
       "        </style>\n",
       "        \n",
       "        <b></b>\n",
       "            <div style=\"max-height:1000px;max-width:1500px;overflow:auto;\">\n",
       "            <table border=\"1\" class=\"Relation\">\n",
       "                <thead> <tr style=\"text-align: right;\"> <th> <div class=\"djtooltip\">\n",
       "                                <p id=\"primary\">message_id</p>\n",
       "                                <span class=\"djtooltiptext\">internal message id</span>\n",
       "                            </div></th><th><div class=\"djtooltip\">\n",
       "                                <p id=\"nonprimary\">message_body</p>\n",
       "                                <span class=\"djtooltiptext\"></span>\n",
       "                            </div></th><th><div class=\"djtooltip\">\n",
       "                                <p id=\"nonprimary\">nice</p>\n",
       "                                <span class=\"djtooltiptext\"></span>\n",
       "                            </div> </th> </tr> </thead>\n",
       "                <tbody> <tr> <td>1f9c7314-c1aa-40b7-a4a8-57b9b1e35c3f</td>\n",
       "<td>I will be back</td>\n",
       "<td>0</td> </tr> </tbody>\n",
       "            </table>\n",
       "            \n",
       "            <p>Total: 1</p></div>\n",
       "            "
      ],
      "text/plain": [
       "*message_id    message_body   nice    \n",
       "+------------+ +------------+ +------+\n",
       "1f9c7314-c1aa- I will be back 0       \n",
       " (Total: 1)"
      ]
     },
     "execution_count": 33,
     "metadata": {},
     "output_type": "execute_result"
    }
   ],
   "source": [
    "Message & keys[2]"
   ]
  },
  {
   "cell_type": "code",
   "execution_count": null,
   "metadata": {},
   "outputs": [],
   "source": [
    "schema.drop()"
   ]
  },
  {
   "cell_type": "code",
   "execution_count": null,
   "metadata": {},
   "outputs": [],
   "source": []
  }
 ],
 "metadata": {
  "kernelspec": {
   "display_name": "Python 3",
   "language": "python",
   "name": "python3"
  },
  "language_info": {
   "codemirror_mode": {
    "name": "ipython",
    "version": 3
   },
   "file_extension": ".py",
   "mimetype": "text/x-python",
   "name": "python",
   "nbconvert_exporter": "python",
   "pygments_lexer": "ipython3",
   "version": "3.6.7"
  }
 },
 "nbformat": 4,
 "nbformat_minor": 2
}
